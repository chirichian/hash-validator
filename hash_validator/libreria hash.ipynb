{
 "cells": [
  {
   "cell_type": "code",
   "execution_count": 16,
   "id": "a2fea85b",
   "metadata": {},
   "outputs": [],
   "source": [
    "from hashlib import sha256\n",
    "import itertools"
   ]
  },
  {
   "cell_type": "code",
   "execution_count": 17,
   "id": "e70e016c",
   "metadata": {},
   "outputs": [],
   "source": [
    "def sha256sum(filename:str) -> str:\n",
    "    \"\"\"\n",
    "    \"\"\"\n",
    "    with open(filename, 'rb') as file:\n",
    "        return sha256(file.read()).hexdigest()"
   ]
  },
  {
   "cell_type": "code",
   "execution_count": 194,
   "id": "aec0dd78",
   "metadata": {},
   "outputs": [],
   "source": [
    "def check_hash(files:list or str, # revisar\n",
    "               hash_val:list or str=None):\n",
    "    \"\"\"\n",
    "        Check hash values from files usinig sha256 and compare with hash_val, comparison is by position\n",
    "        \n",
    "        Param:\n",
    "         files:list, files' path list\n",
    "         hash_val: list hases' val list\n",
    "         between: bool, if it's true the list of files will compare its own hash values\n",
    "        \n",
    "        \n",
    "    \"\"\"\n",
    "    \n",
    "    # TODO: validate len in two list\n",
    "    # TODO: If len isn't the same raise an error  \n",
    "    \n",
    "    # Validate if files is str\n",
    "    if isinstance(files, str):\n",
    "        files = [files]\n",
    "    # Validate if hash_val is str\n",
    "    if isinstance(hash_val, str):\n",
    "        hash_val = [hash_val]\n",
    "            \n",
    "    if hash_val:\n",
    "        dict_result = {\n",
    "            'ok':[],\n",
    "            'not_ok':[] \n",
    "        }\n",
    "        for file, val in tuple(zip(files, hash_val)):\n",
    "            tmp_hash = sha256sum(file)\n",
    "            if tmp_hash == val:\n",
    "                dict_result['ok'].append(file)\n",
    "            else:\n",
    "                dict_result['not_ok'].append(file)\n",
    "        \n",
    "        if dict_result['not_ok']:\n",
    "            print(\"Check the files, the hash aren't the same:{} \".format(','.join(dict_result['not_ok'])))\n",
    "\n",
    "    else:\n",
    "        hash_list = []\n",
    "        for e in files:\n",
    "            sha256sum(e)\n",
    "            hash_list.append(sha256sum(e))\n",
    "        if not set(hash_list)==1:\n",
    "            print(\"Check the file, the hash aren't the same\")\n",
    "             "
   ]
  },
  {
   "cell_type": "code",
   "execution_count": 195,
   "id": "a981fa48",
   "metadata": {},
   "outputs": [],
   "source": [
    "files = ['../data/New_Launches_data_test.csv',\n",
    "         '../data/experimental/weather_zipcodes.csv',\n",
    "        '../data/experimental/weather_zipcodes.csv']\n",
    "\n",
    "hash_val = ['d429dfcbd43d91efd7750b09c0c4256dc2fd52713b2bae11a3f036566cb854a1',\n",
    "           'sdssds',\n",
    "           'asdasdad'\n",
    "           ]"
   ]
  },
  {
   "cell_type": "code",
   "execution_count": 196,
   "id": "fdfb7435",
   "metadata": {},
   "outputs": [],
   "source": [
    "#files = '../data/New_Launches_data_test.csv'"
   ]
  },
  {
   "cell_type": "code",
   "execution_count": 197,
   "id": "d36a1f2a",
   "metadata": {},
   "outputs": [
    {
     "name": "stdout",
     "output_type": "stream",
     "text": [
      "Check the files, the hash aren't the same:../data/experimental/weather_zipcodes.csv,../data/experimental/weather_zipcodes.csv \n"
     ]
    }
   ],
   "source": [
    "check_hash(files, hash_val) "
   ]
  },
  {
   "cell_type": "code",
   "execution_count": 180,
   "id": "4f2b3fae",
   "metadata": {},
   "outputs": [
    {
     "data": {
      "text/plain": [
       "[('../data/New_Launches_data_test.csv',\n",
       "  'd429dfcbd43d91efd7750b09c0c4256dc2fd52713b2bae11a3f036566cb854a1')]"
      ]
     },
     "execution_count": 180,
     "metadata": {},
     "output_type": "execute_result"
    }
   ],
   "source": [
    "list(zip([files], hash_val))"
   ]
  },
  {
   "cell_type": "code",
   "execution_count": null,
   "id": "58e9c654",
   "metadata": {},
   "outputs": [],
   "source": [
    "sha256sum()"
   ]
  }
 ],
 "metadata": {
  "kernelspec": {
   "display_name": "Python 3.8.3 64-bit ('topo-chico': conda)",
   "language": "python",
   "name": "python383jvsc74a57bd048e877130e9be6e1bedc758079db27feb71a89f1334abb10d9b69c71793f0615"
  },
  "language_info": {
   "codemirror_mode": {
    "name": "ipython",
    "version": 3
   },
   "file_extension": ".py",
   "mimetype": "text/x-python",
   "name": "python",
   "nbconvert_exporter": "python",
   "pygments_lexer": "ipython3",
   "version": "3.8.3"
  },
  "toc": {
   "base_numbering": 1,
   "nav_menu": {},
   "number_sections": true,
   "sideBar": true,
   "skip_h1_title": false,
   "title_cell": "Table of Contents",
   "title_sidebar": "Contents",
   "toc_cell": false,
   "toc_position": {},
   "toc_section_display": true,
   "toc_window_display": false
  }
 },
 "nbformat": 4,
 "nbformat_minor": 5
}
