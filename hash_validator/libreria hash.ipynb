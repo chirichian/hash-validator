{
 "cells": [
  {
   "cell_type": "code",
   "execution_count": 16,
   "id": "a2fea85b",
   "metadata": {},
   "outputs": [],
   "source": [
    "from hashlib import sha256\n",
    "import itertools"
   ]
  },
  {
   "cell_type": "code",
   "execution_count": 17,
   "id": "e70e016c",
   "metadata": {},
   "outputs": [],
   "source": [
    "def sha256sum(filename:str) -> str:\n",
    "    \"\"\"\n",
    "    \"\"\"\n",
    "    with open(filename, 'rb') as file:\n",
    "        return sha256(file.read()).hexdigest()"
   ]
  },
  {
   "cell_type": "code",
   "execution_count": 18,
   "id": "aec0dd78",
   "metadata": {},
   "outputs": [],
   "source": [
    "def check_hash(files:list or str, # revisar\n",
    "               hash_val:list or str=None):\n",
    "    \"\"\"\n",
    "        Check hash values from files using sha256 and compare with hash_val, where comparison\n",
    "        is by position, or between two given files.\n",
    "        \n",
    "        Param:\n",
    "         files: list or str, files' path list.\n",
    "         hash_val: list or str, hashes' values list.\n",
    "    \"\"\"\n",
    "    \n",
    "    # DONE: validate len in two list --> DONE\n",
    "    # DONE: If len isn't the same raise an error  --> DONE\n",
    "    \n",
    "\n",
    "    # files = 0 --> Use case 1\n",
    "    # hash = 0 and files != 0\n",
    "        # files < 2 or > 2 --> Use case 2: Raise Exception\n",
    "        # Compare hash between those two files --> Use case 4 TODO\n",
    "    # hash > 0 and files > 0\n",
    "        # len_files != len_hash --> Use case 3     \n",
    "\n",
    "    len_files = len(files)\n",
    "    len_hash = len(hash_val)\n",
    "    \n",
    "    if len_files == 0: # --> Use case 1\n",
    "        raise Exception(\"List of files is empty.\")\n",
    "    elif len_files != len_hash and len_hash != 0: # --> Use case 3\n",
    "        raise Exception(\"Lists don't have the same length.\")\n",
    "        \n",
    "    \n",
    "    # Validate if files is str\n",
    "    if isinstance(files, str):\n",
    "        files = [files]\n",
    "    # Validate if hash_val is str\n",
    "    if isinstance(hash_val, str):\n",
    "        hash_val = [hash_val]\n",
    "            \n",
    "    if hash_val:\n",
    "        dict_result = {\n",
    "        'ok':[],\n",
    "        'not_ok':[] \n",
    "        }\n",
    "        for file, val in zip(files, hash_val):\n",
    "            tmp_hash = sha256sum(file)\n",
    "            if tmp_hash == val:\n",
    "                dict_result['ok'].append(file)\n",
    "            else:\n",
    "                dict_result['not_ok'].append(file)\n",
    "        \n",
    "        if dict_result['not_ok']:\n",
    "            print(\"Check the files, the hash aren't the same:{} \".format(','.join(dict_result['not_ok'])))\n",
    "        else:\n",
    "            print('Congratulations, hash are the same!! Continue working, slave.')\n",
    "\n",
    "    else:\n",
    "        if len_files != 2: #--> Use case 2\n",
    "            raise Exception(\"List of files must have two files if hashes are not provided.\")\n",
    "\n",
    "        hash_list = []\n",
    "        for e in files:\n",
    "            sha256sum(e)\n",
    "            hash_list.append(sha256sum(e))\n",
    "        if not set(hash_list)==1:\n",
    "            print(\"Check the files, the hash aren't the same\")"
   ]
  },
  {
   "cell_type": "code",
   "execution_count": 19,
   "id": "a981fa48",
   "metadata": {},
   "outputs": [],
   "source": [
    "files = [\n",
    "        '../../data/sumbission_3.csv',\n",
    "        # '../../data/sumbission_4.csv',\n",
    "        #'../../data/sumbission_5.csv'\n",
    "        ]\n",
    "\n",
    "hash_val = [\n",
    "        '9ef7a2f47e2871adef6616556f1499bbd2702748e371104a63df4246a7232136',\n",
    "          '38a0539db6a864881d9fa8a60157e713fd8b63924cea9d83a83f12b9a3a50893',\n",
    "        #   'e1f148287023fe1e7a7d6087e543a11fb49e551cead6d78e1c2a7f25235b940e'\n",
    "           ]"
   ]
  },
  {
   "cell_type": "code",
   "execution_count": 20,
   "id": "fdfb7435",
   "metadata": {},
   "outputs": [],
   "source": [
    "#files = '../data/New_Launches_data_test.csv'"
   ]
  },
  {
   "cell_type": "code",
   "execution_count": 21,
   "id": "d36a1f2a",
   "metadata": {},
   "outputs": [
    {
     "ename": "Exception",
     "evalue": "Lists don't have the same length.",
     "output_type": "error",
     "traceback": [
      "\u001b[0;31m---------------------------------------------------------------------------\u001b[0m",
      "\u001b[0;31mException\u001b[0m                                 Traceback (most recent call last)",
      "\u001b[0;32m<ipython-input-21-3235da39549f>\u001b[0m in \u001b[0;36m<module>\u001b[0;34m\u001b[0m\n\u001b[0;32m----> 1\u001b[0;31m \u001b[0mcheck_hash\u001b[0m\u001b[0;34m(\u001b[0m\u001b[0mfiles\u001b[0m\u001b[0;34m,\u001b[0m \u001b[0mhash_val\u001b[0m\u001b[0;34m)\u001b[0m\u001b[0;34m\u001b[0m\u001b[0;34m\u001b[0m\u001b[0m\n\u001b[0m",
      "\u001b[0;32m<ipython-input-18-f537ef321a40>\u001b[0m in \u001b[0;36mcheck_hash\u001b[0;34m(files, hash_val)\u001b[0m\n\u001b[1;32m     27\u001b[0m         \u001b[0;32mraise\u001b[0m \u001b[0mException\u001b[0m\u001b[0;34m(\u001b[0m\u001b[0;34m\"List of files is empty.\"\u001b[0m\u001b[0;34m)\u001b[0m\u001b[0;34m\u001b[0m\u001b[0;34m\u001b[0m\u001b[0m\n\u001b[1;32m     28\u001b[0m     \u001b[0;32melif\u001b[0m \u001b[0mlen_files\u001b[0m \u001b[0;34m!=\u001b[0m \u001b[0mlen_hash\u001b[0m \u001b[0;32mand\u001b[0m \u001b[0mlen_hash\u001b[0m \u001b[0;34m!=\u001b[0m \u001b[0;36m0\u001b[0m\u001b[0;34m:\u001b[0m \u001b[0;31m# --> Use case 3\u001b[0m\u001b[0;34m\u001b[0m\u001b[0;34m\u001b[0m\u001b[0m\n\u001b[0;32m---> 29\u001b[0;31m         \u001b[0;32mraise\u001b[0m \u001b[0mException\u001b[0m\u001b[0;34m(\u001b[0m\u001b[0;34m\"Lists don't have the same length.\"\u001b[0m\u001b[0;34m)\u001b[0m\u001b[0;34m\u001b[0m\u001b[0;34m\u001b[0m\u001b[0m\n\u001b[0m\u001b[1;32m     30\u001b[0m \u001b[0;34m\u001b[0m\u001b[0m\n\u001b[1;32m     31\u001b[0m \u001b[0;34m\u001b[0m\u001b[0m\n",
      "\u001b[0;31mException\u001b[0m: Lists don't have the same length."
     ]
    }
   ],
   "source": [
    "check_hash(files, hash_val) "
   ]
  },
  {
   "cell_type": "code",
   "execution_count": 22,
   "id": "4f2b3fae",
   "metadata": {},
   "outputs": [
    {
     "data": {
      "text/plain": [
       "[('../../data/sumbission_3.csv',\n",
       "  '9ef7a2f47e2871adef6616556f1499bbd2702748e371104a63df4246a7232136')]"
      ]
     },
     "execution_count": 22,
     "metadata": {},
     "output_type": "execute_result"
    }
   ],
   "source": [
    "list(zip(files, hash_val))"
   ]
  },
  {
   "cell_type": "code",
   "execution_count": null,
   "id": "58e9c654",
   "metadata": {},
   "outputs": [],
   "source": [
    "sha256sum()"
   ]
  }
 ],
 "metadata": {
  "interpreter": {
   "hash": "d15529d9e209a94a09f89984c36a77e2b2b9cb2246b958fadf2bff8346058dd5"
  },
  "kernelspec": {
   "display_name": "Python 3.9.2 ('ncr_demo-env')",
   "language": "python",
   "name": "python3"
  },
  "language_info": {
   "codemirror_mode": {
    "name": "ipython",
    "version": 3
   },
   "file_extension": ".py",
   "mimetype": "text/x-python",
   "name": "python",
   "nbconvert_exporter": "python",
   "pygments_lexer": "ipython3",
   "version": "3.9.2"
  },
  "toc": {
   "base_numbering": 1,
   "nav_menu": {},
   "number_sections": true,
   "sideBar": true,
   "skip_h1_title": false,
   "title_cell": "Table of Contents",
   "title_sidebar": "Contents",
   "toc_cell": false,
   "toc_position": {},
   "toc_section_display": true,
   "toc_window_display": false
  }
 },
 "nbformat": 4,
 "nbformat_minor": 5
}
